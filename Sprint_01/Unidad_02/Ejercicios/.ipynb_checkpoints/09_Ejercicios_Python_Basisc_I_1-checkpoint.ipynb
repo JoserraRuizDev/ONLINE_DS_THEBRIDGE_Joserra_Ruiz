{
 "cells": [
  {
   "cell_type": "markdown",
   "id": "49e62f63-566d-4728-8b91-69e813f01c00",
   "metadata": {},
   "source": [
    "### Ejercicio 1"
   ]
  },
  {
   "cell_type": "code",
   "execution_count": null,
   "id": "292e4f66-8354-4738-8086-02023f031405",
   "metadata": {},
   "outputs": [
    {
     "data": {
      "text/plain": [
       "¿Por qué esta magnífica tecnología científica, \n",
       "        que ahorra trabajo y nos hace la vida más fácil, \n",
       "                nos aporta tan poca felicidad? \n",
       "                        La respuesta está, simplemente: porque aún no hemos aprendido a usarla con tino. \n",
       " \"Albert Einstein\"\n"
      ]
     },
     "metadata": {},
     "output_type": "display_data"
    }
   ],
   "source": [
    "print('¿Por qué esta magnífica tecnología científica, \\n        que ahorra trabajo y nos hace la vida más fácil, \\n                nos aporta tan poca felicidad? \\n                        La respuesta está, simplemente: porque aún no hemos aprendido a usarla con tino. \\n \"Albert Einstein\"') "
   ]
  },
  {
   "cell_type": "markdown",
   "id": "7b14c78e-98ad-46d0-ae02-00bf15db61a9",
   "metadata": {},
   "source": [
    "### Ejercicio 2"
   ]
  },
  {
   "cell_type": "code",
   "execution_count": null,
   "id": "1a3111ee-d3b9-4475-b965-ee319df2762c",
   "metadata": {},
   "outputs": [
    {
     "data": {
      "text/plain": [
       "C/ Amapola 3, Utrera, 41831\n"
      ]
     },
     "metadata": {},
     "output_type": "display_data"
    }
   ],
   "source": [
    "calle = \"C/ Amapola\"\n",
    "numero = \"3\"\n",
    "poblacion = \"Utrera\"\n",
    "codigo_postal = \"41831\"\n",
    "direccion_completa = calle + \" \" + numero + \", \" + poblacion + \", \" + codigo_postal\n",
    "print(direccion_completa)"
   ]
  },
  {
   "cell_type": "markdown",
   "id": "0a0ac1e2-2867-42b9-a1ee-68a9e8afb66e",
   "metadata": {},
   "source": [
    "### Ejercicio 3"
   ]
  },
  {
   "cell_type": "code",
   "execution_count": null,
   "id": "600461f3-7a19-403a-a378-9f088423b4e8",
   "metadata": {},
   "outputs": [
    {
     "data": {
      "text/plain": [
       "C/ Amapola 3, Utrera, 41831\n"
      ]
     },
     "metadata": {},
     "output_type": "display_data"
    }
   ],
   "source": [
    "#Nombre de la calle donde se encuentra la vivienda\n",
    "calle = \"C/ Amapola\"\n",
    "#Número de la vivienda\n",
    "numero = \"3\"\n",
    "#Población donde se encuentra la vivienda\n",
    "poblacion = \"Utrera\"\n",
    "#Código postal donde se encuenta la vivienda\n",
    "codigo_postal = \"41831\"\n",
    "#Variable que reúne las anteriores y forma la dirección completa donde se encuentra la vivienda\n",
    "direccion_completa = calle + \" \" + numero + \", \" + poblacion + \", \" + codigo_postal\n",
    "'''\n",
    "El programa recoge los datos de la vivienda por separado\n",
    "y los reúne en una sola variable, que luego imprime por pantalla\n",
    "'''\n",
    "print(direccion_completa)"
   ]
  },
  {
   "cell_type": "markdown",
   "id": "89bfabe9-676f-4a59-a44f-d9658f8d64ab",
   "metadata": {},
   "source": [
    "### Ejercicio 4"
   ]
  },
  {
   "cell_type": "raw",
   "id": "ea6319f1-1b06-4087-8e92-390c617e7c01",
   "metadata": {},
   "source": [
    "1. Es correcta\n",
    "2. Es incorrecta, no cierra las comillas que indican el string\n",
    "3. Es incorrecta, True es una palabra reservada y no puede usarse como variable\n",
    "4. Es correcta\n",
    "5. Es correcta\n",
    "6. Es incorrecta, Import es una palabra reservada y no puede usarse como variable\n",
    "4. Es incorrecta, los nombres de las variables no pueden comenzar por números\n",
    "5. Es correcta"
   ]
  },
  {
   "cell_type": "markdown",
   "id": "40af63b1-50b9-4765-b342-2e0ea58d8ca5",
   "metadata": {},
   "source": [
    "### Ejercicio 5"
   ]
  },
  {
   "cell_type": "code",
   "execution_count": null,
   "id": "0d094d59-5c9c-4824-9150-0bb2289b41ee",
   "metadata": {},
   "outputs": [],
   "source": [
    "victorias_seleccion = 6\n",
    "derrotas_seleccion = 1\n",
    "partidos_totales = 7\n",
    "porcentaje_victorias = (victorias_seleccion * 100) // partidos_totales\n",
    "porcentaje_derrotas = (derrotas_seleccion * 100) // partidos_totales"
   ]
  },
  {
   "cell_type": "code",
   "execution_count": null,
   "id": "fe1f8ba3",
   "metadata": {},
   "outputs": [
    {
     "data": {
      "text/plain": [
       "Número de victorias de la selección española en el Mundial 2023:  6\n",
       "Número de derrotas de la selección española en el Mundial 2023:  1\n",
       "Porcentaje de victorias de la selección española en el Mundial 2023: 85%\n",
       "Porcentaje de derrotas de la selección española en el Mundial 2023: 14%\n"
      ]
     },
     "metadata": {},
     "output_type": "display_data"
    }
   ],
   "source": [
    "print(\"Número de victorias de la selección española en el Mundial 2023: \", victorias_seleccion)\n",
    "print(\"Número de derrotas de la selección española en el Mundial 2023: \", derrotas_seleccion)\n",
    "print(\"Porcentaje de victorias de la selección española en el Mundial 2023: \" + str(porcentaje_victorias) + \"%\")\n",
    "print(\"Porcentaje de derrotas de la selección española en el Mundial 2023: \" + str(porcentaje_derrotas) + \"%\")"
   ]
  },
  {
   "cell_type": "code",
   "execution_count": null,
   "id": "10d57689",
   "metadata": {},
   "outputs": [
    {
     "data": {
      "text/plain": [
       "6\n"
      ]
     },
     "metadata": {},
     "output_type": "display_data"
    }
   ],
   "source": [
    "victorias_seleccion"
   ]
  },
  {
   "cell_type": "code",
   "execution_count": null,
   "id": "c399f610",
   "metadata": {},
   "outputs": [
    {
     "data": {
      "text/plain": [
       "1\n"
      ]
     },
     "metadata": {},
     "output_type": "display_data"
    }
   ],
   "source": [
    "derrotas_seleccion"
   ]
  },
  {
   "cell_type": "code",
   "execution_count": null,
   "id": "22b24d55",
   "metadata": {},
   "outputs": [
    {
     "data": {
      "text/plain": [
       "85\n"
      ]
     },
     "metadata": {},
     "output_type": "display_data"
    }
   ],
   "source": [
    "porcentaje_victorias"
   ]
  },
  {
   "cell_type": "code",
   "execution_count": null,
   "id": "baba4fea",
   "metadata": {},
   "outputs": [
    {
     "data": {
      "text/plain": [
       "14\n"
      ]
     },
     "metadata": {},
     "output_type": "display_data"
    }
   ],
   "source": [
    "porcentaje_derrotas"
   ]
  }
 ],
 "metadata": {
  "kernelspec": {
   "display_name": "Python 3 (ipykernel)",
   "language": "python",
   "name": "python3"
  },
  "language_info": {
   "codemirror_mode": {
    "name": "ipython",
    "version": 3
   },
   "file_extension": ".py",
   "mimetype": "text/x-python",
   "name": "python",
   "nbconvert_exporter": "python",
   "pygments_lexer": "ipython3",
   "version": "3.11.9"
  }
 },
 "nbformat": 4,
 "nbformat_minor": 5
}
