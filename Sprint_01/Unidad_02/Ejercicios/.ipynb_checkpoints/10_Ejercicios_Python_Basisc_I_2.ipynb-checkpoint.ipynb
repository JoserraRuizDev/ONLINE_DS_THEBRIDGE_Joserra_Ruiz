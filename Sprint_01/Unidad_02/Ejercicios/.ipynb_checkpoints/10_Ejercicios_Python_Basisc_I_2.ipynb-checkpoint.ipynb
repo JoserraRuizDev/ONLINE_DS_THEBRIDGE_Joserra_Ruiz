{
 "cells": [
  {
   "cell_type": "markdown",
   "id": "f52d254c-3a3c-4fce-888c-ade22341dd2f",
   "metadata": {},
   "source": [
    "### Ejercicio 1"
   ]
  },
  {
   "cell_type": "code",
   "execution_count": 1,
   "id": "602b1d39-9c01-4407-8220-02542a9a372d",
   "metadata": {},
   "outputs": [
    {
     "name": "stdout",
     "output_type": "stream",
     "text": [
      "num_int es  <class 'int'>\n",
      "num_float es  <class 'float'>\n"
     ]
    }
   ],
   "source": [
    "num_int = 10\n",
    "num_float = 9.1\n",
    "print(\"num_int es \", type(num_int))\n",
    "print(\"num_float es \", type(num_float))"
   ]
  },
  {
   "cell_type": "code",
   "execution_count": 2,
   "id": "13e0f3bc-7489-4a88-982b-d662450b4c7a",
   "metadata": {},
   "outputs": [
    {
     "name": "stdout",
     "output_type": "stream",
     "text": [
      "suma es  <class 'float'>\n"
     ]
    }
   ],
   "source": [
    "suma = num_int + num_float\n",
    "print(\"suma es \", type(suma))"
   ]
  },
  {
   "cell_type": "markdown",
   "id": "f5e4e919-918d-4ac1-9bc8-193da88c96eb",
   "metadata": {},
   "source": [
    "**La nueva variable es de tipo float**"
   ]
  },
  {
   "cell_type": "code",
   "execution_count": 3,
   "id": "d2557bfc-c28c-4c4e-b44d-7839a11cf913",
   "metadata": {},
   "outputs": [],
   "source": [
    "del num_int, num_float"
   ]
  },
  {
   "cell_type": "markdown",
   "id": "05f4a865-e2a1-42c2-94dd-305fcd20a587",
   "metadata": {},
   "source": [
    "### Ejercicio 2"
   ]
  },
  {
   "cell_type": "code",
   "execution_count": 19,
   "id": "b2fae021-9ba8-49ba-a8c5-5eaa1d62f26d",
   "metadata": {},
   "outputs": [
    {
     "name": "stdin",
     "output_type": "stream",
     "text": [
      "Escriba el número de grados que quiere convertir a radianes: 20\n"
     ]
    },
    {
     "name": "stdout",
     "output_type": "stream",
     "text": [
      "20 grados es igual a 0.3488888888888889 radianes\n"
     ]
    }
   ],
   "source": [
    "input_grados = input(\"Escriba el número de grados que quiere convertir a radianes:\")\n",
    "radianes_calculados = float(input_grados) * (3.14 / 180)\n",
    "print(\"%s grados es igual a %s radianes\" % (input_grados, radianes_calculados))"
   ]
  },
  {
   "cell_type": "markdown",
   "id": "e27fd45e-1348-4619-89cf-7e4dc6519b24",
   "metadata": {},
   "source": [
    "### Ejercicio 3"
   ]
  },
  {
   "cell_type": "code",
   "execution_count": 18,
   "id": "de14aa85-b7ba-455a-b8f3-e58f9887bcee",
   "metadata": {},
   "outputs": [
    {
     "name": "stdout",
     "output_type": "stream",
     "text": [
      "Escriba la base del paralelogramo en cms:\n"
     ]
    },
    {
     "name": "stdin",
     "output_type": "stream",
     "text": [
      " 10.4\n"
     ]
    },
    {
     "name": "stdout",
     "output_type": "stream",
     "text": [
      "Escriba la altura del paralelogramo en cms:\n"
     ]
    },
    {
     "name": "stdin",
     "output_type": "stream",
     "text": [
      " 3\n"
     ]
    },
    {
     "name": "stdout",
     "output_type": "stream",
     "text": [
      "El área del paralelogramo es de 31.200000000000003 cms.\n"
     ]
    }
   ],
   "source": [
    "base_cm = input(\"Escriba la base del paralelogramo en cms:\")\n",
    "altura_cm = input(\"Escriba la altura del paralelogramo en cms:\")\n",
    "area_paralelogramo = float(base_cm) * float(altura_cm)\n",
    "print(\"El área del paralelogramo es de %s cms.\" % area_paralelogramo)"
   ]
  },
  {
   "cell_type": "markdown",
   "id": "ba3b957b-77da-49b7-b99b-d5fed52ffdd1",
   "metadata": {},
   "source": [
    "### Ejercicio 4"
   ]
  },
  {
   "cell_type": "code",
   "execution_count": 22,
   "id": "324bb658-1ef9-4d83-ab50-f70535960167",
   "metadata": {},
   "outputs": [
    {
     "name": "stdin",
     "output_type": "stream",
     "text": [
      "Escriba la base del paralelogramo en cms: 10,5\n",
      "Escriba la altura del paralelogramo en cms: 4,5\n"
     ]
    },
    {
     "name": "stdout",
     "output_type": "stream",
     "text": [
      "El área del paralelogramo es de 47.25 cms.\n"
     ]
    }
   ],
   "source": [
    "base_cm = input(\"Escriba la base del paralelogramo en cms:\")\n",
    "altura_cm = input(\"Escriba la altura del paralelogramo en cms:\")\n",
    "base = float(base_cm.replace(',', '.'))\n",
    "altura = float(altura_cm.replace(',', '.'))\n",
    "area_paralelogramo = base * altura\n",
    "print(f\"El área del paralelogramo es de {area_paralelogramo} cms.\")"
   ]
  },
  {
   "cell_type": "markdown",
   "id": "65492526-368d-487a-a45d-07f9eb7deca3",
   "metadata": {},
   "source": [
    "### Ejercicio 5"
   ]
  },
  {
   "cell_type": "code",
   "execution_count": 23,
   "id": "f0ce0558-6e41-48b7-8e01-fc995dea86bc",
   "metadata": {},
   "outputs": [
    {
     "name": "stdin",
     "output_type": "stream",
     "text": [
      "¿Cuál es tu nombre?  Jesús\n",
      "¿Cuál es tu edad?  21\n"
     ]
    },
    {
     "name": "stdout",
     "output_type": "stream",
     "text": [
      "Jesús, naciste en el año 2004.\n"
     ]
    }
   ],
   "source": [
    "nombre = input(\"¿Cuál es tu nombre? \")\n",
    "edad = int(input(\"¿Cuál es tu edad? \"))\n",
    "año_actual = 2025  # Puedes cambiarlo según el año en curso\n",
    "año_nacimiento = año_actual - edad\n",
    "\n",
    "print(f\"{nombre}, naciste en el año {año_nacimiento}.\")"
   ]
  },
  {
   "cell_type": "code",
   "execution_count": null,
   "id": "55bcca3c-13a6-4731-a811-3f03f3c634a3",
   "metadata": {},
   "outputs": [],
   "source": []
  }
 ],
 "metadata": {
  "kernelspec": {
   "display_name": "Python 3 (ipykernel)",
   "language": "python",
   "name": "python3"
  },
  "language_info": {
   "codemirror_mode": {
    "name": "ipython",
    "version": 3
   },
   "file_extension": ".py",
   "mimetype": "text/x-python",
   "name": "python",
   "nbconvert_exporter": "python",
   "pygments_lexer": "ipython3",
   "version": "3.11.9"
  }
 },
 "nbformat": 4,
 "nbformat_minor": 5
}
