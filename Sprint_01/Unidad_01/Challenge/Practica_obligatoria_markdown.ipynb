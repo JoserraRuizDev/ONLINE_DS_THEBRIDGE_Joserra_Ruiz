{
 "cells": [
  {
   "cell_type": "markdown",
   "id": "15f914f4",
   "metadata": {},
   "source": [
    "# EJERCICIO 1\n"
   ]
  },
  {
   "cell_type": "markdown",
   "id": "aadbdc1c",
   "metadata": {},
   "source": [
    "\n",
    "\n",
    "> **Lo más importante**\n",
    "> + Matemáticas\n",
    "> + Python\n",
    "> + SQL\n",
    ">   \n",
    "> <img src=\"logo.png\" alt=\"Logo\" width=\"200\"/> <!--Era más sencillo ajustar el tamaño del logo que buscar uno más pequeño -->\n",
    "> \n",
    "> Otro tema importante es el del *Business Intelligence*\n",
    ">\n",
    "> Si tienes dudas, puedes escribirme a: [alberto.romero@thebridgeschool.es](alberto.romero@thebridgeschool.es)\n",
    ">\n",
    "> Y en esta página se aprende mucho de machine learning: [página con ML](https://www.kaggle.com/)"
   ]
  },
  {
   "cell_type": "markdown",
   "id": "9b0c0ba1",
   "metadata": {},
   "source": [
    "# EJERCICIO 2"
   ]
  },
  {
   "cell_type": "markdown",
   "id": "f94c30d8-ea4c-42af-954b-5e36ef9ea2ff",
   "metadata": {},
   "source": [
    "\n",
    "## Tabla\n",
    "\n",
    "|**Ramp Up**|**Data Analysis**|**Machine Learning**|**Data & Business**|\n",
    "|-----------|-----------------|--------------------|-------------------|\n",
    "|Python|EDA|Supervised|Productivizacion|\n",
    "|Estadística|R|Non supervised|Storytelling|\n",
    "|SQL|Feat. Eng.|Deep Learning|API|\n",
    "\n",
    "## Fórmula\n",
    "$\\sqrt{3x-1}+(1+x)^2$"
   ]
  },
  {
   "cell_type": "code",
   "execution_count": null,
   "id": "d5710b8c-3c50-4d7e-9b55-a8d731d3b70b",
   "metadata": {},
   "outputs": [],
   "source": []
  }
 ],
 "metadata": {
  "kernelspec": {
   "display_name": "Python 3 (ipykernel)",
   "language": "python",
   "name": "python3"
  },
  "language_info": {
   "codemirror_mode": {
    "name": "ipython",
    "version": 3
   },
   "file_extension": ".py",
   "mimetype": "text/x-python",
   "name": "python",
   "nbconvert_exporter": "python",
   "pygments_lexer": "ipython3",
   "version": "3.11.9"
  }
 },
 "nbformat": 4,
 "nbformat_minor": 5
}
