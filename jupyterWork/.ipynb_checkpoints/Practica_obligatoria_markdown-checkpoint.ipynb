{
 "cells": [
  {
   "cell_type": "markdown",
   "id": "bc224fe6-6afd-42e9-8924-c4abcceeaff7",
   "metadata": {},
   "source": [
    "> ### Lo más importante\n",
    "> + Matemáticas\n",
    "> + Python\n",
    "> + SQL\n",
    ">   \n",
    "> <img src=\"logo.png\" alt=\"Logo\" width=\"200\"/>\n",
    "> \n",
    "> Otro tema imoportante es el del *Business Intelligence*"
   ]
  },
  {
   "cell_type": "code",
   "execution_count": null,
   "id": "f78bf52e-9d06-49cb-a9d5-088238c0a49c",
   "metadata": {},
   "outputs": [],
   "source": []
  }
 ],
 "metadata": {
  "kernelspec": {
   "display_name": "Python 3 (ipykernel)",
   "language": "python",
   "name": "python3"
  },
  "language_info": {
   "codemirror_mode": {
    "name": "ipython",
    "version": 3
   },
   "file_extension": ".py",
   "mimetype": "text/x-python",
   "name": "python",
   "nbconvert_exporter": "python",
   "pygments_lexer": "ipython3",
   "version": "3.11.9"
  }
 },
 "nbformat": 4,
 "nbformat_minor": 5
}
