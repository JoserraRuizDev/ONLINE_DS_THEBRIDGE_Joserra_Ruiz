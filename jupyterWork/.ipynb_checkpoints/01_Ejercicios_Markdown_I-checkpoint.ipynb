{
 "cells": [
  {
   "cell_type": "markdown",
   "id": "6939286c-e315-4c70-a2d3-14611f078990",
   "metadata": {},
   "source": [
    "__Ejercicio 1: Cabeceras__\n",
    "\n",
    "# Ciencia de Datos\n",
    "## Introducción\n",
    "### Herramientas  "
   ]
  },
  {
   "cell_type": "markdown",
   "id": "5ba5ec11-869f-4686-9d56-c9966fd275c9",
   "metadata": {},
   "source": [
    "__Ejercicio 2: Estilos de texto__\n",
    "\n",
    "Estoy usando **Markdown** en *Jupyter* y no puedo esperar a aprender ***Python***.  "
   ]
  },
  {
   "cell_type": "markdown",
   "id": "4bb52c38-3c2e-45a6-bf45-1e3c978e3029",
   "metadata": {},
   "source": [
    "__Ejercicio 3: Resaltados y HTML__\n",
    "\n",
    "<mark>resaltado</mark>\n",
    "\n",
    "<p style=\"color:blue\">color</p>  "
   ]
  },
  {
   "cell_type": "markdown",
   "id": "503d660e-6f35-4909-aa51-c98012b5c040",
   "metadata": {},
   "source": [
    "__Ejercicio 4: Citas__\n",
    "\n",
    "> La Ciencia de Datos es el petróleo del siglo XXI.\n",
    "\n",
    "> La Ciencia de Datos es el petróleo del siglo XXI.\n",
    ">\n",
    "> > La Ciencia de Datos es el petróleo del siglo XXI.  "
   ]
  },
  {
   "cell_type": "markdown",
   "id": "2a37de40-de8e-496a-8f53-bfbb59b9be18",
   "metadata": {},
   "source": [
    "__Ejercicio 5: Combinando todo__\n",
    "\n",
    "## Curso en Markdown\n",
    "\n",
    "Este ejercicio es muy **importante**.\n",
    "\n",
    "> Aprender es crecer\n",
    "\n",
    "<p style=\"color:green\"><i>ejemplo</i></p>"
   ]
  }
 ],
 "metadata": {
  "kernelspec": {
   "display_name": "Python 3 (ipykernel)",
   "language": "python",
   "name": "python3"
  },
  "language_info": {
   "codemirror_mode": {
    "name": "ipython",
    "version": 3
   },
   "file_extension": ".py",
   "mimetype": "text/x-python",
   "name": "python",
   "nbconvert_exporter": "python",
   "pygments_lexer": "ipython3",
   "version": "3.11.9"
  }
 },
 "nbformat": 4,
 "nbformat_minor": 5
}
