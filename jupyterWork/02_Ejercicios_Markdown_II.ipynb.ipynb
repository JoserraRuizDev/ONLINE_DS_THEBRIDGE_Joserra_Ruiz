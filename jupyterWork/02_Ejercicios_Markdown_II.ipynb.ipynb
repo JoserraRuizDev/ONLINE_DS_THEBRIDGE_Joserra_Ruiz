{
 "cells": [
  {
   "cell_type": "markdown",
   "id": "5894d814-9080-47e3-8bfd-ec1825fc860c",
   "metadata": {},
   "source": [
    "__Ejercicio 6: Listas__\n",
    "\n",
    "* Manzana\n",
    "* Plátanos\n",
    "* Uvas\n",
    "\n",
    "1. Arbol binario\n",
    "2. Random Forest\n",
    "3. Regresión Logística"
   ]
  },
  {
   "cell_type": "markdown",
   "id": "9ba245ca-e517-4bd8-b43d-eb9ef306c37c",
   "metadata": {},
   "source": [
    "__Ejercicio 7: Listas Anidadas__\n",
    "\n",
    "### Frutas y Verduras\n",
    "\n",
    "1. Pera\n",
    "    * Melón\n",
    "    * Sandía\n",
    "    * Uva\n",
    "2. Manzana\n",
    "3. Plátano\n",
    "1. Rábano\n",
    "    * Apio\n",
    "    * Berza\n",
    "    * Espárrago\n",
    "2. Lechuga\n",
    "3. Pimiento  "
   ]
  },
  {
   "cell_type": "markdown",
   "id": "ffcacf93-8494-4647-9aed-c0579409648e",
   "metadata": {},
   "source": [
    "__Ejercicio 8: Enlaces e Imágenes__\n",
    "\n",
    "[Por aquí se cruzan puentes](www.thebridge.tech)\n",
    "\n",
    "![Logo](C:\\workspace\\TheBridge\\ONLINE_DS_THEBRIDGE_Joserra_Ruiz\\jupyterWork\\rick-astley.png)"
   ]
  },
  {
   "cell_type": "markdown",
   "id": "c270ab23-2643-4776-88b9-c77ea375d2ea",
   "metadata": {},
   "source": [
    "__Ejercicio 9: Líneas Horizontales y Bloques de Código__\n",
    "\n",
    "***\n",
    "```Python\n",
    "print(\"Hola Mundo\")\n",
    "```\n",
    "---"
   ]
  },
  {
   "cell_type": "code",
   "execution_count": null,
   "id": "d7fffe90-90b5-4c3a-9148-221da91fb6be",
   "metadata": {},
   "outputs": [],
   "source": []
  }
 ],
 "metadata": {
  "kernelspec": {
   "display_name": "Python 3 (ipykernel)",
   "language": "python",
   "name": "python3"
  },
  "language_info": {
   "codemirror_mode": {
    "name": "ipython",
    "version": 3
   },
   "file_extension": ".py",
   "mimetype": "text/x-python",
   "name": "python",
   "nbconvert_exporter": "python",
   "pygments_lexer": "ipython3",
   "version": "3.11.9"
  }
 },
 "nbformat": 4,
 "nbformat_minor": 5
}
